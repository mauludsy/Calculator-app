{
  "cells": [
    {
      "cell_type": "markdown",
      "metadata": {
        "id": "view-in-github",
        "colab_type": "text"
      },
      "source": [
        "<a href=\"https://colab.research.google.com/github/mauludsy/Calculator-app/blob/master/UAS_5185_DATMIN.ipynb\" target=\"_parent\"><img src=\"https://colab.research.google.com/assets/colab-badge.svg\" alt=\"Open In Colab\"/></a>"
      ]
    },
    {
      "cell_type": "code",
      "execution_count": null,
      "metadata": {
        "colab": {
          "base_uri": "https://localhost:8080/"
        },
        "id": "erwP9rR94zgj",
        "outputId": "b572c924-1e16-41b4-a7a8-449089509545"
      },
      "outputs": [
        {
          "output_type": "stream",
          "name": "stdout",
          "text": [
            "Drive already mounted at /content/drive; to attempt to forcibly remount, call drive.mount(\"/content/drive\", force_remount=True).\n"
          ]
        }
      ],
      "source": [
        "from google.colab import drive\n",
        "drive.mount('/content/drive')"
      ]
    },
    {
      "cell_type": "markdown",
      "metadata": {
        "id": "K6gVmAJ865uO"
      },
      "source": [
        "#**Mengimport Library yang dibutuhkan**"
      ]
    },
    {
      "cell_type": "code",
      "execution_count": null,
      "metadata": {
        "id": "R77AWlK85uMF"
      },
      "outputs": [],
      "source": [
        "# Tools for analysis\n",
        "import pandas as pd\n",
        "import numpy as np\n",
        "from sklearn.model_selection import train_test_split\n",
        "from sklearn.model_selection import KFold\n",
        "from sklearn.model_selection import GridSearchCV\n",
        "from sklearn import preprocessing\n",
        "from sklearn.preprocessing import StandardScaler\n",
        "from sklearn.decomposition import PCA\n",
        "\n",
        "# Classifiers\n",
        "from sklearn.ensemble import RandomForestClassifier\n",
        "from sklearn.neighbors import KNeighborsClassifier\n",
        "from sklearn.neural_network import MLPClassifier\n",
        "from sklearn.svm import LinearSVC\n",
        "from sklearn.svm import SVC\n",
        "from sklearn.naive_bayes import GaussianNB\n",
        "from sklearn.tree import DecisionTreeClassifier\n",
        "\n",
        "# Metrics\n",
        "from sklearn.metrics import confusion_matrix\n",
        "from sklearn.metrics import ConfusionMatrixDisplay\n",
        "from sklearn.metrics import classification_report\n",
        "from sklearn.model_selection import train_test_split\n",
        "from sklearn.preprocessing import StandardScaler\n",
        "from sklearn.metrics import accuracy_score\n",
        "from sklearn.linear_model import LogisticRegression\n",
        "from sklearn.ensemble import RandomForestClassifier, GradientBoostingClassifier\n",
        "from sklearn.svm import SVC\n",
        "from sklearn.neighbors import KNeighborsClassifier\n",
        "import matplotlib.pyplot as plt\n",
        "\n",
        "import warnings\n",
        "warnings.filterwarnings(\"ignore\")"
      ]
    },
    {
      "cell_type": "markdown",
      "source": [
        "# **1. Data Preprocessing**"
      ],
      "metadata": {
        "id": "BSeJR1KlubDt"
      }
    },
    {
      "cell_type": "markdown",
      "metadata": {
        "id": "eQiP1xlM7GEL"
      },
      "source": [
        "**Mengimport Datasheet**"
      ]
    },
    {
      "cell_type": "code",
      "execution_count": null,
      "metadata": {
        "id": "uL2MkKsI50Ht"
      },
      "outputs": [],
      "source": [
        "stunting_data = pd.read_csv('/content/drive/MyDrive/content/stunting_wasting_dataset.csv')"
      ]
    },
    {
      "cell_type": "code",
      "execution_count": null,
      "metadata": {
        "colab": {
          "base_uri": "https://localhost:8080/"
        },
        "id": "DBb8kQGM6CBR",
        "outputId": "70a70e2e-c6b6-4794-ab75-d456d9a98f31"
      },
      "outputs": [
        {
          "output_type": "stream",
          "name": "stdout",
          "text": [
            "<class 'pandas.core.frame.DataFrame'>\n",
            "RangeIndex: 100000 entries, 0 to 99999\n",
            "Data columns (total 6 columns):\n",
            " #   Column             Non-Null Count   Dtype  \n",
            "---  ------             --------------   -----  \n",
            " 0   Jenis Kelamin      100000 non-null  object \n",
            " 1   Umur (bulan)       100000 non-null  int64  \n",
            " 2   Tinggi Badan (cm)  100000 non-null  float64\n",
            " 3   Berat Badan (kg)   100000 non-null  float64\n",
            " 4   Stunting           100000 non-null  object \n",
            " 5   Wasting            100000 non-null  object \n",
            "dtypes: float64(2), int64(1), object(3)\n",
            "memory usage: 4.6+ MB\n",
            "None\n"
          ]
        }
      ],
      "source": [
        "print(stunting_data.info())"
      ]
    },
    {
      "cell_type": "markdown",
      "metadata": {
        "id": "Oxbdbs9yLHKk"
      },
      "source": [
        "**Menampilkan summary dari datasheet**"
      ]
    },
    {
      "cell_type": "code",
      "execution_count": null,
      "metadata": {
        "colab": {
          "base_uri": "https://localhost:8080/",
          "height": 300
        },
        "id": "cpdJlBl7LFE7",
        "outputId": "c0eb26ed-33fa-470e-a610-0586c592ea58"
      },
      "outputs": [
        {
          "output_type": "execute_result",
          "data": {
            "text/plain": [
              "        Umur (bulan)  Tinggi Badan (cm)  Berat Badan (kg)\n",
              "count  100000.000000      100000.000000     100000.000000\n",
              "mean       11.992580          73.132657          9.259256\n",
              "std         7.199671          11.360846          3.300780\n",
              "min         0.000000          42.600000          1.000000\n",
              "25%         6.000000          65.500000          6.900000\n",
              "50%        12.000000          74.200000          9.200000\n",
              "75%        18.000000          81.400000         11.700000\n",
              "max        24.000000          97.600000         17.200000"
            ],
            "text/html": [
              "\n",
              "  <div id=\"df-dab1a393-42a5-44ca-a026-b81795a36a95\" class=\"colab-df-container\">\n",
              "    <div>\n",
              "<style scoped>\n",
              "    .dataframe tbody tr th:only-of-type {\n",
              "        vertical-align: middle;\n",
              "    }\n",
              "\n",
              "    .dataframe tbody tr th {\n",
              "        vertical-align: top;\n",
              "    }\n",
              "\n",
              "    .dataframe thead th {\n",
              "        text-align: right;\n",
              "    }\n",
              "</style>\n",
              "<table border=\"1\" class=\"dataframe\">\n",
              "  <thead>\n",
              "    <tr style=\"text-align: right;\">\n",
              "      <th></th>\n",
              "      <th>Umur (bulan)</th>\n",
              "      <th>Tinggi Badan (cm)</th>\n",
              "      <th>Berat Badan (kg)</th>\n",
              "    </tr>\n",
              "  </thead>\n",
              "  <tbody>\n",
              "    <tr>\n",
              "      <th>count</th>\n",
              "      <td>100000.000000</td>\n",
              "      <td>100000.000000</td>\n",
              "      <td>100000.000000</td>\n",
              "    </tr>\n",
              "    <tr>\n",
              "      <th>mean</th>\n",
              "      <td>11.992580</td>\n",
              "      <td>73.132657</td>\n",
              "      <td>9.259256</td>\n",
              "    </tr>\n",
              "    <tr>\n",
              "      <th>std</th>\n",
              "      <td>7.199671</td>\n",
              "      <td>11.360846</td>\n",
              "      <td>3.300780</td>\n",
              "    </tr>\n",
              "    <tr>\n",
              "      <th>min</th>\n",
              "      <td>0.000000</td>\n",
              "      <td>42.600000</td>\n",
              "      <td>1.000000</td>\n",
              "    </tr>\n",
              "    <tr>\n",
              "      <th>25%</th>\n",
              "      <td>6.000000</td>\n",
              "      <td>65.500000</td>\n",
              "      <td>6.900000</td>\n",
              "    </tr>\n",
              "    <tr>\n",
              "      <th>50%</th>\n",
              "      <td>12.000000</td>\n",
              "      <td>74.200000</td>\n",
              "      <td>9.200000</td>\n",
              "    </tr>\n",
              "    <tr>\n",
              "      <th>75%</th>\n",
              "      <td>18.000000</td>\n",
              "      <td>81.400000</td>\n",
              "      <td>11.700000</td>\n",
              "    </tr>\n",
              "    <tr>\n",
              "      <th>max</th>\n",
              "      <td>24.000000</td>\n",
              "      <td>97.600000</td>\n",
              "      <td>17.200000</td>\n",
              "    </tr>\n",
              "  </tbody>\n",
              "</table>\n",
              "</div>\n",
              "    <div class=\"colab-df-buttons\">\n",
              "\n",
              "  <div class=\"colab-df-container\">\n",
              "    <button class=\"colab-df-convert\" onclick=\"convertToInteractive('df-dab1a393-42a5-44ca-a026-b81795a36a95')\"\n",
              "            title=\"Convert this dataframe to an interactive table.\"\n",
              "            style=\"display:none;\">\n",
              "\n",
              "  <svg xmlns=\"http://www.w3.org/2000/svg\" height=\"24px\" viewBox=\"0 -960 960 960\">\n",
              "    <path d=\"M120-120v-720h720v720H120Zm60-500h600v-160H180v160Zm220 220h160v-160H400v160Zm0 220h160v-160H400v160ZM180-400h160v-160H180v160Zm440 0h160v-160H620v160ZM180-180h160v-160H180v160Zm440 0h160v-160H620v160Z\"/>\n",
              "  </svg>\n",
              "    </button>\n",
              "\n",
              "  <style>\n",
              "    .colab-df-container {\n",
              "      display:flex;\n",
              "      gap: 12px;\n",
              "    }\n",
              "\n",
              "    .colab-df-convert {\n",
              "      background-color: #E8F0FE;\n",
              "      border: none;\n",
              "      border-radius: 50%;\n",
              "      cursor: pointer;\n",
              "      display: none;\n",
              "      fill: #1967D2;\n",
              "      height: 32px;\n",
              "      padding: 0 0 0 0;\n",
              "      width: 32px;\n",
              "    }\n",
              "\n",
              "    .colab-df-convert:hover {\n",
              "      background-color: #E2EBFA;\n",
              "      box-shadow: 0px 1px 2px rgba(60, 64, 67, 0.3), 0px 1px 3px 1px rgba(60, 64, 67, 0.15);\n",
              "      fill: #174EA6;\n",
              "    }\n",
              "\n",
              "    .colab-df-buttons div {\n",
              "      margin-bottom: 4px;\n",
              "    }\n",
              "\n",
              "    [theme=dark] .colab-df-convert {\n",
              "      background-color: #3B4455;\n",
              "      fill: #D2E3FC;\n",
              "    }\n",
              "\n",
              "    [theme=dark] .colab-df-convert:hover {\n",
              "      background-color: #434B5C;\n",
              "      box-shadow: 0px 1px 3px 1px rgba(0, 0, 0, 0.15);\n",
              "      filter: drop-shadow(0px 1px 2px rgba(0, 0, 0, 0.3));\n",
              "      fill: #FFFFFF;\n",
              "    }\n",
              "  </style>\n",
              "\n",
              "    <script>\n",
              "      const buttonEl =\n",
              "        document.querySelector('#df-dab1a393-42a5-44ca-a026-b81795a36a95 button.colab-df-convert');\n",
              "      buttonEl.style.display =\n",
              "        google.colab.kernel.accessAllowed ? 'block' : 'none';\n",
              "\n",
              "      async function convertToInteractive(key) {\n",
              "        const element = document.querySelector('#df-dab1a393-42a5-44ca-a026-b81795a36a95');\n",
              "        const dataTable =\n",
              "          await google.colab.kernel.invokeFunction('convertToInteractive',\n",
              "                                                    [key], {});\n",
              "        if (!dataTable) return;\n",
              "\n",
              "        const docLinkHtml = 'Like what you see? Visit the ' +\n",
              "          '<a target=\"_blank\" href=https://colab.research.google.com/notebooks/data_table.ipynb>data table notebook</a>'\n",
              "          + ' to learn more about interactive tables.';\n",
              "        element.innerHTML = '';\n",
              "        dataTable['output_type'] = 'display_data';\n",
              "        await google.colab.output.renderOutput(dataTable, element);\n",
              "        const docLink = document.createElement('div');\n",
              "        docLink.innerHTML = docLinkHtml;\n",
              "        element.appendChild(docLink);\n",
              "      }\n",
              "    </script>\n",
              "  </div>\n",
              "\n",
              "\n",
              "<div id=\"df-5543eb4b-c1a1-4e35-a16e-02f99e68c24f\">\n",
              "  <button class=\"colab-df-quickchart\" onclick=\"quickchart('df-5543eb4b-c1a1-4e35-a16e-02f99e68c24f')\"\n",
              "            title=\"Suggest charts\"\n",
              "            style=\"display:none;\">\n",
              "\n",
              "<svg xmlns=\"http://www.w3.org/2000/svg\" height=\"24px\"viewBox=\"0 0 24 24\"\n",
              "     width=\"24px\">\n",
              "    <g>\n",
              "        <path d=\"M19 3H5c-1.1 0-2 .9-2 2v14c0 1.1.9 2 2 2h14c1.1 0 2-.9 2-2V5c0-1.1-.9-2-2-2zM9 17H7v-7h2v7zm4 0h-2V7h2v10zm4 0h-2v-4h2v4z\"/>\n",
              "    </g>\n",
              "</svg>\n",
              "  </button>\n",
              "\n",
              "<style>\n",
              "  .colab-df-quickchart {\n",
              "      --bg-color: #E8F0FE;\n",
              "      --fill-color: #1967D2;\n",
              "      --hover-bg-color: #E2EBFA;\n",
              "      --hover-fill-color: #174EA6;\n",
              "      --disabled-fill-color: #AAA;\n",
              "      --disabled-bg-color: #DDD;\n",
              "  }\n",
              "\n",
              "  [theme=dark] .colab-df-quickchart {\n",
              "      --bg-color: #3B4455;\n",
              "      --fill-color: #D2E3FC;\n",
              "      --hover-bg-color: #434B5C;\n",
              "      --hover-fill-color: #FFFFFF;\n",
              "      --disabled-bg-color: #3B4455;\n",
              "      --disabled-fill-color: #666;\n",
              "  }\n",
              "\n",
              "  .colab-df-quickchart {\n",
              "    background-color: var(--bg-color);\n",
              "    border: none;\n",
              "    border-radius: 50%;\n",
              "    cursor: pointer;\n",
              "    display: none;\n",
              "    fill: var(--fill-color);\n",
              "    height: 32px;\n",
              "    padding: 0;\n",
              "    width: 32px;\n",
              "  }\n",
              "\n",
              "  .colab-df-quickchart:hover {\n",
              "    background-color: var(--hover-bg-color);\n",
              "    box-shadow: 0 1px 2px rgba(60, 64, 67, 0.3), 0 1px 3px 1px rgba(60, 64, 67, 0.15);\n",
              "    fill: var(--button-hover-fill-color);\n",
              "  }\n",
              "\n",
              "  .colab-df-quickchart-complete:disabled,\n",
              "  .colab-df-quickchart-complete:disabled:hover {\n",
              "    background-color: var(--disabled-bg-color);\n",
              "    fill: var(--disabled-fill-color);\n",
              "    box-shadow: none;\n",
              "  }\n",
              "\n",
              "  .colab-df-spinner {\n",
              "    border: 2px solid var(--fill-color);\n",
              "    border-color: transparent;\n",
              "    border-bottom-color: var(--fill-color);\n",
              "    animation:\n",
              "      spin 1s steps(1) infinite;\n",
              "  }\n",
              "\n",
              "  @keyframes spin {\n",
              "    0% {\n",
              "      border-color: transparent;\n",
              "      border-bottom-color: var(--fill-color);\n",
              "      border-left-color: var(--fill-color);\n",
              "    }\n",
              "    20% {\n",
              "      border-color: transparent;\n",
              "      border-left-color: var(--fill-color);\n",
              "      border-top-color: var(--fill-color);\n",
              "    }\n",
              "    30% {\n",
              "      border-color: transparent;\n",
              "      border-left-color: var(--fill-color);\n",
              "      border-top-color: var(--fill-color);\n",
              "      border-right-color: var(--fill-color);\n",
              "    }\n",
              "    40% {\n",
              "      border-color: transparent;\n",
              "      border-right-color: var(--fill-color);\n",
              "      border-top-color: var(--fill-color);\n",
              "    }\n",
              "    60% {\n",
              "      border-color: transparent;\n",
              "      border-right-color: var(--fill-color);\n",
              "    }\n",
              "    80% {\n",
              "      border-color: transparent;\n",
              "      border-right-color: var(--fill-color);\n",
              "      border-bottom-color: var(--fill-color);\n",
              "    }\n",
              "    90% {\n",
              "      border-color: transparent;\n",
              "      border-bottom-color: var(--fill-color);\n",
              "    }\n",
              "  }\n",
              "</style>\n",
              "\n",
              "  <script>\n",
              "    async function quickchart(key) {\n",
              "      const quickchartButtonEl =\n",
              "        document.querySelector('#' + key + ' button');\n",
              "      quickchartButtonEl.disabled = true;  // To prevent multiple clicks.\n",
              "      quickchartButtonEl.classList.add('colab-df-spinner');\n",
              "      try {\n",
              "        const charts = await google.colab.kernel.invokeFunction(\n",
              "            'suggestCharts', [key], {});\n",
              "      } catch (error) {\n",
              "        console.error('Error during call to suggestCharts:', error);\n",
              "      }\n",
              "      quickchartButtonEl.classList.remove('colab-df-spinner');\n",
              "      quickchartButtonEl.classList.add('colab-df-quickchart-complete');\n",
              "    }\n",
              "    (() => {\n",
              "      let quickchartButtonEl =\n",
              "        document.querySelector('#df-5543eb4b-c1a1-4e35-a16e-02f99e68c24f button');\n",
              "      quickchartButtonEl.style.display =\n",
              "        google.colab.kernel.accessAllowed ? 'block' : 'none';\n",
              "    })();\n",
              "  </script>\n",
              "</div>\n",
              "\n",
              "    </div>\n",
              "  </div>\n"
            ],
            "application/vnd.google.colaboratory.intrinsic+json": {
              "type": "dataframe",
              "summary": "{\n  \"name\": \"stunting_data\",\n  \"rows\": 8,\n  \"fields\": [\n    {\n      \"column\": \"Umur (bulan)\",\n      \"properties\": {\n        \"dtype\": \"number\",\n        \"std\": 35351.34001391156,\n        \"min\": 0.0,\n        \"max\": 100000.0,\n        \"num_unique_values\": 8,\n        \"samples\": [\n          11.99258,\n          12.0,\n          100000.0\n        ],\n        \"semantic_type\": \"\",\n        \"description\": \"\"\n      }\n    },\n    {\n      \"column\": \"Tinggi Badan (cm)\",\n      \"properties\": {\n        \"dtype\": \"number\",\n        \"std\": 35332.83289110933,\n        \"min\": 11.360845642314239,\n        \"max\": 100000.0,\n        \"num_unique_values\": 8,\n        \"samples\": [\n          73.13265700000001,\n          74.2,\n          100000.0\n        ],\n        \"semantic_type\": \"\",\n        \"description\": \"\"\n      }\n    },\n    {\n      \"column\": \"Berat Badan (kg)\",\n      \"properties\": {\n        \"dtype\": \"number\",\n        \"std\": 35352.381679810875,\n        \"min\": 1.0,\n        \"max\": 100000.0,\n        \"num_unique_values\": 8,\n        \"samples\": [\n          9.259256,\n          9.2,\n          100000.0\n        ],\n        \"semantic_type\": \"\",\n        \"description\": \"\"\n      }\n    }\n  ]\n}"
            }
          },
          "metadata": {},
          "execution_count": 36
        }
      ],
      "source": [
        "stunting_data.describe()"
      ]
    },
    {
      "cell_type": "markdown",
      "metadata": {
        "id": "ugF1Z9SnLMKp"
      },
      "source": [
        "**Perintah untuk menampilkan datasheet dari yang paling atas**"
      ]
    },
    {
      "cell_type": "code",
      "execution_count": null,
      "metadata": {
        "colab": {
          "base_uri": "https://localhost:8080/"
        },
        "id": "unFlUZhi6GCr",
        "outputId": "abfd7d87-91eb-486d-c948-7310cdef7cf1"
      },
      "outputs": [
        {
          "output_type": "stream",
          "name": "stdout",
          "text": [
            "  Jenis Kelamin  Umur (bulan)  Tinggi Badan (cm)  Berat Badan (kg)  \\\n",
            "0     Laki-laki            19               91.6              13.3   \n",
            "1     Laki-laki            20               77.7               8.5   \n",
            "2     Laki-laki            10               79.0              10.3   \n",
            "3     Perempuan             2               50.3               8.3   \n",
            "4     Perempuan             5               56.4              10.9   \n",
            "\n",
            "           Stunting             Wasting  \n",
            "0              Tall  Risk of Overweight  \n",
            "1           Stunted         Underweight  \n",
            "2            Normal  Risk of Overweight  \n",
            "3  Severely Stunted  Risk of Overweight  \n",
            "4  Severely Stunted  Risk of Overweight  \n"
          ]
        }
      ],
      "source": [
        "print(stunting_data.head())"
      ]
    },
    {
      "cell_type": "markdown",
      "metadata": {
        "id": "vFWS3_S0KRnz"
      },
      "source": [
        "**Mengganti nama kolom fitur \"Jenis Kelamin\", menjadi \"Gender\"**"
      ]
    },
    {
      "cell_type": "code",
      "execution_count": null,
      "metadata": {
        "id": "l0--4g5eKHUN"
      },
      "outputs": [],
      "source": [
        "stunting_data.rename(columns={'Jenis Kelamin': 'Gender'}, inplace=True)"
      ]
    },
    {
      "cell_type": "markdown",
      "metadata": {
        "id": "CzVwI5XlLUFE"
      },
      "source": [
        "**Mengecek nilai null pada kolom fitur maupun target**"
      ]
    },
    {
      "cell_type": "code",
      "execution_count": null,
      "metadata": {
        "colab": {
          "base_uri": "https://localhost:8080/"
        },
        "id": "Aj2VQlEE6JW3",
        "outputId": "e723f0dd-d695-41b9-9779-0ce78040cdfc"
      },
      "outputs": [
        {
          "output_type": "stream",
          "name": "stdout",
          "text": [
            "Gender               0\n",
            "Umur (bulan)         0\n",
            "Tinggi Badan (cm)    0\n",
            "Berat Badan (kg)     0\n",
            "Stunting             0\n",
            "Wasting              0\n",
            "dtype: int64\n"
          ]
        }
      ],
      "source": [
        "print(stunting_data.isnull().sum())"
      ]
    },
    {
      "cell_type": "markdown",
      "metadata": {
        "id": "eYbZ-RLMLaQr"
      },
      "source": [
        "**Mengecek Missing value pada datasheet**"
      ]
    },
    {
      "cell_type": "code",
      "execution_count": null,
      "metadata": {
        "colab": {
          "base_uri": "https://localhost:8080/"
        },
        "id": "Vcb5E7WD6M5H",
        "outputId": "d5623ad1-b306-4cf2-9713-472243c42d0f"
      },
      "outputs": [
        {
          "output_type": "stream",
          "name": "stdout",
          "text": [
            "Gender               0\n",
            "Umur (bulan)         0\n",
            "Tinggi Badan (cm)    0\n",
            "Berat Badan (kg)     0\n",
            "Stunting             0\n",
            "Wasting              0\n",
            "dtype: int64\n"
          ]
        }
      ],
      "source": [
        "# Mengecek jumlah missing values per kolom\n",
        "missing_values = stunting_data.isnull().sum()\n",
        "print(missing_values)"
      ]
    },
    {
      "cell_type": "markdown",
      "metadata": {
        "id": "3fvcQ7ZdLgAG"
      },
      "source": [
        "**Menghapus kolom target \"Gender\" dan \"Wasting\"**"
      ]
    },
    {
      "cell_type": "code",
      "execution_count": null,
      "metadata": {
        "colab": {
          "base_uri": "https://localhost:8080/"
        },
        "id": "eI3ShaQb6Tvy",
        "outputId": "37967330-9867-4fa7-c0ea-d0c090655aa6"
      },
      "outputs": [
        {
          "output_type": "stream",
          "name": "stdout",
          "text": [
            "   Umur (bulan)  Tinggi Badan (cm)  Berat Badan (kg)          Stunting\n",
            "0            19               91.6              13.3              Tall\n",
            "1            20               77.7               8.5           Stunted\n",
            "2            10               79.0              10.3            Normal\n",
            "3             2               50.3               8.3  Severely Stunted\n",
            "4             5               56.4              10.9  Severely Stunted\n"
          ]
        }
      ],
      "source": [
        "# Menghapus kolom 'Wasting' dan 'Gender' dari dataset\n",
        "stunting_data_cleaned = stunting_data.drop(columns=['Gender','Wasting'])\n",
        "\n",
        "# Menampilkan dataset setelah kolom dihapus\n",
        "print(stunting_data_cleaned.head())"
      ]
    },
    {
      "cell_type": "code",
      "execution_count": null,
      "metadata": {
        "colab": {
          "base_uri": "https://localhost:8080/"
        },
        "id": "sYNIBqFj6X3j",
        "outputId": "61f5466f-552e-4792-9484-8ff4cbc90e1f"
      },
      "outputs": [
        {
          "output_type": "stream",
          "name": "stdout",
          "text": [
            "Kolom: Umur (bulan)\n",
            "[19 20 10  2  5 11 16 15 18  6 17  7 21  3 13 23 12 24  9  8 22  4  0  1\n",
            " 14]\n",
            "------------------------------\n",
            "Kolom: Tinggi Badan (cm)\n",
            "[91.6 77.7 79.  50.3 56.4 76.3 80.7 72.6 78.4 63.4 60.4 77.5 76.6 59.8\n",
            " 82.8 84.7 86.2 61.2 69.8 80.5 84.1 67.8 97.4 59.4 72.5 76.7 53.1 64.7\n",
            " 73.8 68.8 84.4 88.1 92.5 77.6 71.3 92.8 46.3 80.3 68.5 68.4 89.8 78.6\n",
            " 74.1 88.6 61.6 54.1 88.2 84.2 55.5 83.7 69.1 54.5 85.9 67.5 70.8 68.2\n",
            " 78.5 43.8 82.9 84.8 51.  65.6 72.3 75.2 59.3 57.7 50.5 79.4 52.7 45.8\n",
            " 54.6 81.6 64.  79.6 43.6 79.8 83.8 62.8 82.4 51.2 76.5 66.7 68.7 69.2\n",
            " 49.2 80.  86.9 75.5 62.4 74.9 74.4 86.4 83.1 49.1 71.7 89.6 71.2 70.1\n",
            " 60.6 54.9 80.8 70.3 48.3 84.6 48.6 72.7 66.4 68.9 62.3 61.9 79.2 88.5\n",
            " 64.1 58.2 82.2 89.3 83.2 60.9 88.9 61.5 77.2 64.5 88.3 60.  55.  89.4\n",
            " 86.1 78.2 74.2 83.4 45.5 62.2 78.7 51.6 75.1 64.9 74.5 73.4 85.8 48.9\n",
            " 43.4 68.1 72.8 51.4 59.7 90.5 94.2 65.7 89.7 52.9 80.9 52.4 64.4 73.2\n",
            " 55.2 58.6 73.9 64.8 63.3 87.1 64.3 77.9 77.3 57.  72.  83.6 94.4 62.\n",
            " 66.2 85.5 43.3 84.3 93.8 72.2 54.7 52.2 58.9 78.8 67.6 44.4 70.7 78.3\n",
            " 57.1 66.5 86.7 81.5 71.  66.8 69.5 83.9 81.7 64.6 68.6 59.9 81.8 85.3\n",
            " 70.5 75.4 65.9 79.7 74.6 91.1 74.8 69.9 93.9 83.5 79.3 62.1 77.  66.3\n",
            " 46.  53.3 51.8 95.7 87.9 80.2 59.6 67.7 75.  79.9 67.1 44.3 91.7 61.3\n",
            " 77.1 71.4 70.6 85.6 54.2 47.1 78.1 82.5 75.8 70.9 76.1 71.6 74.3 80.1\n",
            " 84.  93.6 53.2 77.8 61.4 66.  53.5 55.3 82.3 81.2 68.3 82.7 87.6 89.2\n",
            " 66.9 81.3 92.2 85.4 85.  89.  86.3 77.4 88.7 63.9 64.2 94.8 59.5 65.1\n",
            " 72.1 87.7 91.  96.4 74.  87.2 73.6 72.9 48.1 53.6 85.1 76.9 93.  67.3\n",
            " 44.2 58.1 89.1 80.4 74.7 90.3 57.2 58.  89.5 59.  70.4 69.  81.  63.\n",
            " 66.1 58.7 47.5 73.5 93.3 73.7 92.3 87.8 76.  75.6 58.5 82.6 65.2 53.8\n",
            " 67.9 55.6 65.5 86.8 71.9 58.8 45.6 65.3 70.2 82.1 80.6 49.9 48.8 73.3\n",
            " 49.3 60.2 56.5 69.3 81.9 89.9 75.9 66.6 71.8 63.1 84.5 69.4 78.9 96.7\n",
            " 50.  46.9 50.9 61.7 65.8 53.7 76.2 61.8 92.  54.8 65.4 86.5 53.4 81.1\n",
            " 78.  73.1 69.7 70.  51.1 75.3 43.  71.1 50.2 69.6 62.5 54.  63.5 63.6\n",
            " 76.8 67.2 84.9 83.  63.8 90.7 58.4 68.  71.5 67.4 96.9 82.  87.5 44.1\n",
            " 61.1 62.6 93.7 95.2 92.1 94.  57.8 50.8 46.7 79.5 60.1 90.2 76.4 57.5\n",
            " 56.9 45.1 83.3 52.8 57.6 50.7 54.3 73.  46.2 61.  86.6 60.3 81.4 62.7\n",
            " 90.1 50.4 92.6 86.  67.  94.7 48.7 91.5 57.9 51.7 97.  90.8 59.1 91.2\n",
            " 52.5 59.2 63.2 52.  57.3 88.8 95.5 55.7 95.3 51.3 63.7 94.3 47.6 60.8\n",
            " 55.8 62.9 55.9 91.9 56.8 88.4 55.4 53.  79.1 96.  42.9 75.7 57.4 85.2\n",
            " 58.3 91.3 47.8 94.9 94.5 43.2 90.9 87.3 91.8 88.  43.9 47.  95.  65.\n",
            " 93.1 92.4 60.7 96.2 90.6 72.4 54.4 47.7 42.8 49.8 56.1 56.  56.7 56.6\n",
            " 52.1 85.7 87.  56.3 87.4 53.9 93.5 93.2 46.4 48.  50.1 91.4 43.5 49.5\n",
            " 44.9 56.2 95.9 45.4 47.9 52.6 43.7 90.4 45.7 95.1 60.5 92.9 46.8 90.\n",
            " 48.2 52.3 94.6 51.5 46.1 49.  44.6 50.6 48.4 55.1 49.6 97.5 47.2 44.8\n",
            " 96.1 44.7 44.  43.1 48.5 47.3 45.3 92.7 49.7 49.4 96.3 42.7 46.6 97.6\n",
            " 93.4 96.5 97.3 96.6 46.5 47.4 96.8 51.9 45.2 97.1 45.9 45.  95.6 95.4\n",
            " 94.1 95.8 44.5 97.2 42.6]\n",
            "------------------------------\n",
            "Kolom: Berat Badan (kg)\n",
            "[13.3  8.5 10.3  8.3 10.9  5.9  9.9  6.5 15.6  7.  11.5  6.2 12.9 11.4\n",
            "  9.   8.4 14.7  5.8  9.2 10.  12.4 14.6 10.7  6.3  7.7 10.1 12.8  7.2\n",
            "  9.1  6.  13.2 13.  12.2  7.4 12.7 11.7  3.2  5.4  6.6 10.6 15.   8.2\n",
            "  4.2 14.4  9.6  4.6  8.7 11.2  6.8 11.9 10.5  5.3 13.9  1.4  6.9 12.\n",
            "  3.8  5.5 15.5  3.6  5.6  4.4  2.5  9.4  6.4  5.2  7.5 15.7  8.8  8.6\n",
            " 13.7  2.3  7.6  8.9 13.4 10.2  9.7 11.3  4.9  8.1 11.   9.8  9.5  6.1\n",
            " 14.  12.1  7.9 10.8 11.6  5.7  4.  14.1 16.   1.5  8.   2.9 15.8 12.3\n",
            " 13.8  1.9 14.8  9.3 13.1  7.3  2.2 15.3  6.7  7.8  3.5 11.1  1.  14.3\n",
            " 10.4 13.6 15.2 14.9  4.5  3.9  1.2  2.6 14.2  4.1  5.1 11.8  7.1 12.5\n",
            " 12.6  4.7 14.5  2.7  5.   1.7 13.5 16.2  4.3  3.3  3.7  2.  15.1  2.1\n",
            "  1.1  4.8  3.1 16.7  2.8 17.1 15.4  2.4 16.5  1.6  3.  15.9 16.4 16.1\n",
            " 16.3 17.   3.4  1.3  1.8 16.8 16.9 16.6 17.2]\n",
            "------------------------------\n",
            "Kolom: Stunting\n",
            "['Stunted' 'Normal']\n",
            "------------------------------\n"
          ]
        }
      ],
      "source": [
        "# Menampilkan value unik dari kolom tertentu dengan filter untuk 'Stunting'\n",
        "columns_to_check = ['Umur (bulan)', 'Tinggi Badan (cm)', 'Berat Badan (kg)', 'Stunting']\n",
        "\n",
        "for column in columns_to_check:\n",
        "    print(f\"Kolom: {column}\")\n",
        "\n",
        "    if column == 'Stunting':\n",
        "        # Menampilkan hanya nilai 'Normal' dan 'Stunted'\n",
        "        filtered_values = stunting_data[column].loc[stunting_data[column].isin(['Normal', 'Stunted'])].unique()\n",
        "        print(filtered_values)\n",
        "    else:\n",
        "        # Menampilkan nilai unik untuk kolom selain 'Stunting'\n",
        "        print(stunting_data[column].unique())\n",
        "\n",
        "    print(\"-\" * 30)\n"
      ]
    },
    {
      "cell_type": "code",
      "source": [
        "# Mengambil data yang hanya memiliki nilai 'Normal' dan 'Stunted' pada kolom 'Stunting'\n",
        "stunting_data_cleaned = stunting_data_cleaned[stunting_data_cleaned['Stunting'].isin(['Normal', 'Stunted'])]\n",
        "\n",
        "# Menggunakan fitur yang tersisa\n",
        "X = stunting_data_cleaned[['Umur (bulan)', 'Tinggi Badan (cm)', 'Berat Badan (kg)']]\n",
        "\n",
        "# Target adalah kolom 'Stunting'\n",
        "y = stunting_data_cleaned['Stunting']\n"
      ],
      "metadata": {
        "id": "XE0U6uXcF_gj"
      },
      "execution_count": null,
      "outputs": []
    },
    {
      "cell_type": "code",
      "source": [
        "from sklearn.preprocessing import LabelEncoder\n",
        "\n",
        "# Hapus kolom 'Jenis Kelamin' dan 'Wasting' sebelum memproses\n",
        "stunting_data_cleaned = stunting_data.drop(columns=['Gender', 'Wasting'])\n",
        "\n",
        "# Filter data untuk hanya menyertakan 'Normal' dan 'Stunting' di kolom 'Stunting'\n",
        "stunting_data_filtered = stunting_data_cleaned[stunting_data_cleaned['Stunting'].isin(['Normal', 'Stunted'])]\n",
        "\n",
        "# Inisialisasi LabelEncoder\n",
        "label_encoder = LabelEncoder()\n",
        "\n",
        "# Mengonversi kolom 'Stunting' menjadi numerik\n",
        "stunting_data_filtered['Stunting'] = label_encoder.fit_transform(stunting_data_filtered['Stunting'])\n",
        "\n",
        "# Menampilkan mapping kategori ke angka\n",
        "label_mapping = dict(zip(label_encoder.classes_, label_encoder.transform(label_encoder.classes_)))\n",
        "print(\"Mapping kategori ke angka:\", label_mapping)\n",
        "\n",
        "# Menampilkan hasil dataset setelah konversi\n",
        "print(stunting_data_filtered.head())\n"
      ],
      "metadata": {
        "colab": {
          "base_uri": "https://localhost:8080/"
        },
        "id": "QZD0LExcF0w0",
        "outputId": "0bb1118a-eed5-42cd-be41-fe31b824b6a1"
      },
      "execution_count": null,
      "outputs": [
        {
          "output_type": "stream",
          "name": "stdout",
          "text": [
            "Mapping kategori ke angka: {'Normal': 0, 'Stunted': 1}\n",
            "   Umur (bulan)  Tinggi Badan (cm)  Berat Badan (kg)  Stunting\n",
            "1            20               77.7               8.5         1\n",
            "2            10               79.0              10.3         0\n",
            "5            11               76.3               5.9         0\n",
            "6            16               80.7               9.9         0\n",
            "7            15               72.6               6.5         0\n"
          ]
        }
      ]
    },
    {
      "cell_type": "markdown",
      "metadata": {
        "id": "CyDcXVXkNL4J"
      },
      "source": [
        "**Matriks Koorelasinya**"
      ]
    },
    {
      "cell_type": "code",
      "execution_count": null,
      "metadata": {
        "colab": {
          "base_uri": "https://localhost:8080/",
          "height": 699
        },
        "id": "GGkYvhD-NHwL",
        "outputId": "608576e6-1ab7-4046-dada-f03a9f149aff"
      },
      "outputs": [
        {
          "output_type": "display_data",
          "data": {
            "text/plain": [
              "<Figure size 1000x800 with 2 Axes>"
            ],
            "image/png": "[encoded data removed]"
          },
          "metadata": {}
        }
      ],
      "source": [
        "import seaborn as sns\n",
        "import matplotlib.pyplot as plt\n",
        "\n",
        "# Hitung matriks korelasi\n",
        "correlation_matrix = stunting_data_filtered.corr()\n",
        "\n",
        "# Buat heatmap\n",
        "plt.figure(figsize=(10, 8))  # Atur ukuran figure\n",
        "sns.heatmap(correlation_matrix, annot=True, cmap='coolwarm', fmt=\".2f\")\n",
        "plt.title(\"Matriks Korelasi\")\n",
        "plt.show()"
      ]
    },
    {
      "cell_type": "markdown",
      "metadata": {
        "id": "G1CghOgfNgN2"
      },
      "source": [
        "# **EDA**"
      ]
    },
    {
      "cell_type": "markdown",
      "metadata": {
        "id": "PYTYQLn7Nkyn"
      },
      "source": [
        "**a. PIE CHART**"
      ]
    },
    {
      "cell_type": "code",
      "execution_count": null,
      "metadata": {
        "colab": {
          "base_uri": "https://localhost:8080/",
          "height": 521
        },
        "id": "R-VroWOLNcoI",
        "outputId": "95de1645-603a-4585-bf1f-a8494fde5891"
      },
      "outputs": [
        {
          "output_type": "display_data",
          "data": {
            "text/plain": [
              "<Figure size 600x600 with 1 Axes>"
            ],
            "image/png": "[encoded data removed]"
          },
          "metadata": {}
        }
      ],
      "source": [
        "import matplotlib.pyplot as plt\n",
        "\n",
        "# Hitung jumlah data untuk setiap kategori\n",
        "stunting_counts = stunting_data_filtered['Stunting'].value_counts()\n",
        "\n",
        "# Buat pie chart\n",
        "plt.figure(figsize=(6, 6))  # Atur ukuran figure\n",
        "plt.pie(stunting_counts, labels=stunting_counts.index, autopct='%1.1f%%', startangle=90)\n",
        "plt.title('Proporsi Stunting')\n",
        "plt.show()"
      ]
    },
    {
      "cell_type": "markdown",
      "metadata": {
        "id": "NCLm9mVWOgED"
      },
      "source": [
        "**b. BAR CHART**"
      ]
    },
    {
      "cell_type": "code",
      "execution_count": null,
      "metadata": {
        "colab": {
          "base_uri": "https://localhost:8080/",
          "height": 564
        },
        "id": "meRVO6f2NxBm",
        "outputId": "d83ae7fc-f588-4d3d-c327-b0925a23b943"
      },
      "outputs": [
        {
          "output_type": "display_data",
          "data": {
            "text/plain": [
              "<Figure size 800x600 with 1 Axes>"
            ],
            "image/png": "[encoded data removed]"
          },
          "metadata": {}
        }
      ],
      "source": [
        "categories = stunting_counts.index\n",
        "counts = stunting_counts.values\n",
        "\n",
        "plt.figure(figsize=(8, 6))\n",
        "plt.bar(categories, counts, color=['skyblue', 'salmon'])\n",
        "plt.title('Jumlah Data untuk Setiap Kategori Stunting')\n",
        "plt.xlabel('Kategori Stunting')\n",
        "plt.ylabel('Jumlah Data')\n",
        "# Menggunakan label asli dengan label_mapping\n",
        "plt.xticks(categories, [label_mapping[cat] if cat in label_mapping else cat for cat in categories])\n",
        "plt.show()"
      ]
    },
    {
      "cell_type": "markdown",
      "metadata": {
        "id": "EXVa176jPt1g"
      },
      "source": [
        "**c. HISTOGRAM**"
      ]
    },
    {
      "cell_type": "code",
      "execution_count": null,
      "metadata": {
        "colab": {
          "base_uri": "https://localhost:8080/",
          "height": 507
        },
        "id": "t3teu7GnPJkG",
        "outputId": "82e8bce4-8146-46db-efd4-276ae28a936d"
      },
      "outputs": [
        {
          "output_type": "display_data",
          "data": {
            "text/plain": [
              "<Figure size 1000x500 with 3 Axes>"
            ],
            "image/png": "[encoded data removed]"
          },
          "metadata": {}
        }
      ],
      "source": [
        "plt.figure(figsize=(10, 5))\n",
        "\n",
        "# Histogram untuk 'Umur (bulan)'\n",
        "plt.subplot(1, 3, 1)  # 1 baris, 3 kolom, plot pertama\n",
        "plt.hist(stunting_data_filtered['Umur (bulan)'], bins=10, color='skyblue')\n",
        "plt.title('Distribusi Umur (bulan)')\n",
        "plt.xlabel('Umur (bulan)')\n",
        "plt.ylabel('Frekuensi')\n",
        "\n",
        "# Histogram untuk 'Tinggi Badan (cm)'\n",
        "plt.subplot(1, 3, 2)  # 1 baris, 3 kolom, plot kedua\n",
        "plt.hist(stunting_data_filtered['Tinggi Badan (cm)'], bins=10, color='salmon')\n",
        "plt.title('Distribusi Tinggi Badan (cm)')\n",
        "plt.xlabel('Tinggi Badan (cm)')\n",
        "plt.ylabel('Frekuensi')\n",
        "\n",
        "# Histogram untuk 'Berat Badan (kg)'\n",
        "plt.subplot(1, 3, 3)  # 1 baris, 3 kolom, plot ketiga\n",
        "plt.hist(stunting_data_filtered['Berat Badan (kg)'], bins=10, color='lightgreen')\n",
        "plt.title('Distribusi Berat Badan (kg)')\n",
        "plt.xlabel('Berat Badan (kg)')\n",
        "plt.ylabel('Frekuensi')\n",
        "\n",
        "plt.tight_layout()\n",
        "plt.show()"
      ]
    },
    {
      "cell_type": "markdown",
      "metadata": {
        "id": "mop4AB0WPz7K"
      },
      "source": [
        "**d. BOX PLOT**"
      ]
    },
    {
      "cell_type": "code",
      "execution_count": null,
      "metadata": {
        "colab": {
          "base_uri": "https://localhost:8080/",
          "height": 487
        },
        "id": "25tLDshLPORL",
        "outputId": "9e3e360d-2f84-46bb-9ff8-7b8cafec7d12"
      },
      "outputs": [
        {
          "output_type": "display_data",
          "data": {
            "text/plain": [
              "<Figure size 1000x500 with 1 Axes>"
            ],
            "image/png": "[encoded data removed]"
          },
          "metadata": {}
        }
      ],
      "source": [
        "plt.figure(figsize=(10, 5))\n",
        "\n",
        "# Box plot untuk 'Umur (bulan)'\n",
        "sns.boxplot(x='Stunting', y='Umur (bulan)', data=stunting_data_filtered, palette=['skyblue', 'salmon'])\n",
        "plt.title('Box Plot Umur (bulan) berdasarkan Stunting')\n",
        "\n",
        "# Menggunakan label asli dengan label_mapping dan nilai numerik\n",
        "for i, label in enumerate(label_encoder.classes_):\n",
        "    plt.xticks([i], [label])  # Menggunakan nilai numerik (i) untuk mengakses label_mapping\n",
        "plt.show()"
      ]
    },
    {
      "cell_type": "markdown",
      "source": [
        "**Melakukan encoding**"
      ],
      "metadata": {
        "id": "GIA-prLVFbrr"
      }
    },
    {
      "cell_type": "code",
      "execution_count": null,
      "metadata": {
        "colab": {
          "base_uri": "https://localhost:8080/",
          "height": 1000
        },
        "id": "XOji_pWD627m",
        "outputId": "230c9cd8-866c-4847-fabe-b60159ebbbef"
      },
      "outputs": [
        {
          "output_type": "display_data",
          "data": {
            "text/plain": [
              "<Figure size 1000x600 with 1 Axes>"
            ],
            "image/png": "[encoded data removed]"
          },
          "metadata": {}
        },
        {
          "output_type": "stream",
          "name": "stdout",
          "text": [
            "Logistic Regression:\n",
            "  Accuracy: 0.89\n",
            "  Precision: 0.82\n",
            "  Recall: 0.78\n",
            "  F1-Score: 0.80\n",
            "--------------------------------------------------\n",
            "SVM:\n",
            "  Accuracy: 0.94\n",
            "  Precision: 0.90\n",
            "  Recall: 0.89\n",
            "  F1-Score: 0.89\n",
            "--------------------------------------------------\n",
            "KNN:\n",
            "  Accuracy: 0.94\n",
            "  Precision: 0.90\n",
            "  Recall: 0.91\n",
            "  F1-Score: 0.91\n",
            "--------------------------------------------------\n",
            "Gradient Boosting:\n",
            "  Accuracy: 0.94\n",
            "  Precision: 0.92\n",
            "  Recall: 0.88\n",
            "  F1-Score: 0.90\n",
            "--------------------------------------------------\n",
            "Gradient Boosted Trees:\n",
            "  Accuracy: 0.95\n",
            "  Precision: 0.90\n",
            "  Recall: 0.92\n",
            "  F1-Score: 0.91\n",
            "--------------------------------------------------\n"
          ]
        }
      ],
      "source": [
        "from sklearn.metrics import classification_report, accuracy_score\n",
        "import matplotlib.pyplot as plt\n",
        "from sklearn.ensemble import GradientBoostingClassifier, RandomForestClassifier\n",
        "from sklearn.linear_model import LogisticRegression\n",
        "from sklearn.neighbors import KNeighborsClassifier\n",
        "from sklearn.ensemble import HistGradientBoostingClassifier\n",
        "from sklearn.model_selection import train_test_split\n",
        "from sklearn.svm import SVC\n",
        "\n",
        "# Split dataset menjadi training dan testing set\n",
        "X_train, X_test, y_train, y_test = train_test_split(X, y, test_size=0.2, random_state=42)\n",
        "\n",
        "# 3. Model Building\n",
        "models = {\n",
        "    \"Logistic Regression\": LogisticRegression(max_iter=1000),\n",
        "    \"SVM\": SVC(),\n",
        "    \"KNN\": KNeighborsClassifier(),\n",
        "    \"Gradient Boosting\": GradientBoostingClassifier(),\n",
        "    \"Gradient Boosted Trees\": HistGradientBoostingClassifier()\n",
        "}\n",
        "\n",
        "# Dictionary untuk menyimpan hasil\n",
        "accuracies = {}\n",
        "precision_scores = {}\n",
        "recall_scores = {}\n",
        "f1_scores = {}\n",
        "\n",
        "# Melatih dan menguji model\n",
        "for name, model in models.items():\n",
        "    model.fit(X_train, y_train)\n",
        "    y_pred = model.predict(X_test)\n",
        "\n",
        "    # Menghitung metrik\n",
        "    accuracies[name] = accuracy_score(y_test, y_pred)\n",
        "    report = classification_report(y_test, y_pred, output_dict=True)\n",
        "\n",
        "    # Simpan nilai precision, recall, f1-score untuk masing-masing model\n",
        "    precision_scores[name] = report['macro avg']['precision']\n",
        "    recall_scores[name] = report['macro avg']['recall']\n",
        "    f1_scores[name] = report['macro avg']['f1-score']\n",
        "\n",
        "# 4. Visualisasi Akurasi\n",
        "plt.figure(figsize=(10, 6))\n",
        "plt.bar(accuracies.keys(), accuracies.values(), color=['blue', 'green', 'red', 'purple', 'orange'])\n",
        "plt.title(\"Model Accuracy Comparison\")\n",
        "plt.ylabel(\"Accuracy\")\n",
        "plt.xticks(rotation=45)\n",
        "plt.ylim(0, 1)\n",
        "plt.show()\n",
        "\n",
        "# Print akurasi, precision, recall, f1-score untuk setiap model\n",
        "for name in models.keys():\n",
        "    print(f\"{name}:\")\n",
        "    print(f\"  Accuracy: {accuracies[name]:.2f}\")\n",
        "    print(f\"  Precision: {precision_scores[name]:.2f}\")\n",
        "    print(f\"  Recall: {recall_scores[name]:.2f}\")\n",
        "    print(f\"  F1-Score: {f1_scores[name]:.2f}\")\n",
        "    print(\"-\" * 50)\n"
      ]
    },
    {
      "cell_type": "markdown",
      "metadata": {
        "id": "zN7ULopq7ttO"
      },
      "source": [
        "#**Menyimpan Model yang sudah ditentukan**"
      ]
    },
    {
      "cell_type": "code",
      "execution_count": null,
      "metadata": {
        "colab": {
          "base_uri": "https://localhost:8080/"
        },
        "id": "C31JZ4U77U0d",
        "outputId": "5df2d1c9-1faa-43e0-b3af-bd81d07a1a2d"
      },
      "outputs": [
        {
          "output_type": "stream",
          "name": "stdout",
          "text": [
            "Model Gradient Boosted Trees berhasil disimpan!\n"
          ]
        }
      ],
      "source": [
        "import joblib\n",
        "\n",
        "# Simpan model Gradient Boosting ke file bernama \"Gradient Boosted.pkl\"\n",
        "joblib.dump(models['Gradient Boosted Trees'], \"GradientBoostedTrees.pkl\")\n",
        "print(\"Model Gradient Boosted Trees berhasil disimpan!\")"
      ]
    },
    {
      "cell_type": "markdown",
      "metadata": {
        "id": "zB2zXPhx71Dh"
      },
      "source": [
        "#**Lalu melakukan Split dan Scaling data dan meyimpannya**"
      ]
    },
    {
      "cell_type": "code",
      "execution_count": null,
      "metadata": {
        "colab": {
          "base_uri": "https://localhost:8080/"
        },
        "id": "Tky0L9UR7ghx",
        "outputId": "025b1e10-ed52-4f03-89a8-751f7986ba94"
      },
      "outputs": [
        {
          "output_type": "stream",
          "name": "stdout",
          "text": [
            "Scaler telah disimpan ke file: Scaler.pkl\n"
          ]
        }
      ],
      "source": [
        "# 1. Load Dataset\n",
        "stunting_data = pd.read_csv('/content/drive/MyDrive/content/stunting_wasting_dataset.csv')\n",
        "\n",
        "# 2. Hapus kolom 'Jenis Kelamin' dan 'Wasting'\n",
        "stunting_data = stunting_data.drop(columns=['Jenis Kelamin', 'Wasting'])\n",
        "\n",
        "# 3. Pisahkan fitur (X) dan label (y)\n",
        "X = stunting_data.drop(columns=['Stunting'])  # Menghapus kolom target\n",
        "y = stunting_data['Stunting']  # Kolom target (label)\n",
        "\n",
        "# 4. Split Dataset\n",
        "X_train, X_test, y_train, y_test = train_test_split(\n",
        "    X, y, test_size=0.3, random_state=42, stratify=y\n",
        ")\n",
        "\n",
        "# 5. Preprocessing (Scaling)\n",
        "scaler = StandardScaler()\n",
        "X_train_scaled = scaler.fit_transform(X_train)  # Fit dan transform pada data training\n",
        "X_test_scaled = scaler.transform(X_test)       # Hanya transform pada data testing\n",
        "\n",
        "# 6. Simpan Scaler\n",
        "scaler_filename = \"Scaler.pkl\"\n",
        "joblib.dump(scaler, scaler_filename)\n",
        "print(f\"Scaler telah disimpan ke file: {scaler_filename}\")\n",
        "\n",
        "# 7. Load Scaler (untuk digunakan kembali di tahap inferensi)\n",
        "loaded_scaler = joblib.load(scaler_filename)"
      ]
    },
    {
      "cell_type": "markdown",
      "metadata": {
        "id": "Vr0P_5ti8H07"
      },
      "source": [
        "#**Melakukan prediksi dengan model yang sudah ditentukan diatas**"
      ]
    },
    {
      "cell_type": "code",
      "execution_count": null,
      "metadata": {
        "colab": {
          "base_uri": "https://localhost:8080/"
        },
        "id": "ZcD8NzEH7b6G",
        "outputId": "182e49e0-d4ee-447f-b66a-dc647fb6048f"
      },
      "outputs": [
        {
          "output_type": "stream",
          "name": "stdout",
          "text": [
            "Prediksi: Stunted\n"
          ]
        }
      ],
      "source": [
        "import joblib\n",
        "import numpy as np\n",
        "import pandas as pd\n",
        "\n",
        "# Data baru\n",
        "new_data = np.array([[10,79.0,10.3]])\n",
        "\n",
        "# Ubah data baru ke DataFrame\n",
        "new_data_df = pd.DataFrame(new_data, columns=['Umur (bulan)', 'Tinggi Badan (cm)', 'Berat Badan (kg)'])\n",
        "\n",
        "# Scale data baru\n",
        "new_data_scaled = scaler.transform(new_data_df)\n",
        "\n",
        "# Memuat model RandomForest dari file\n",
        "loaded_model = joblib.load(\"GradientBoostedTrees.pkl\")\n",
        "\n",
        "# Prediksi menggunakan model RandomForest\n",
        "hasil = loaded_model.predict(new_data_scaled)\n",
        "\n",
        "# Tampilkan hasil prediksi\n",
        "print(f\"Prediksi: {hasil[0]}\")\n"
      ]
    }
  ],
  "metadata": {
    "colab": {
      "provenance": [],
      "authorship_tag": "ABX9TyOSJgu4uPwZm/40PACmoQfX",
      "include_colab_link": true
    },
    "kernelspec": {
      "display_name": "Python 3",
      "name": "python3"
    },
    "language_info": {
      "name": "python"
    }
  },
  "nbformat": 4,
  "nbformat_minor": 0
}